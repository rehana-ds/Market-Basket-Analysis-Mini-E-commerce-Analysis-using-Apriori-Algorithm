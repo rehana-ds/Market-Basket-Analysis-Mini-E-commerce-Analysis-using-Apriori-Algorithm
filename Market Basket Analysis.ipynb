{
 "cells": [
  {
   "cell_type": "markdown",
   "id": "9fc7022d-5abe-4b0a-a41c-a3c9e7f109f6",
   "metadata": {},
   "source": [
    "# Customer Purchase Patterns – Mini E-commerce Analysis using Apriori Algorithm"
   ]
  },
  {
   "cell_type": "code",
   "execution_count": null,
   "id": "0aaf7bc2-feb8-4128-be8f-3f93c980eeed",
   "metadata": {},
   "outputs": [],
   "source": [
    "Project Overview:\n",
    "\n",
    "Analyze a small dataset of online transactions to:\n",
    "\n",
    "1) Understand buying patterns\n",
    "\n",
    "2) Identify frequent itemsets (Apriori)"
   ]
  },
  {
   "cell_type": "code",
   "execution_count": 1,
   "id": "61a390d5-837b-4d2d-91aa-1f7cda9fceb1",
   "metadata": {},
   "outputs": [],
   "source": [
    "transactions = [\n",
    "    ['laptop', 'mouse'],\n",
    "    ['laptop', 'mouse', 'bag'],\n",
    "    ['mouse', 'headphones'],\n",
    "    ['laptop', 'bag'],\n",
    "    ['laptop', 'mouse', 'headphones'],\n",
    "    ['bag', 'headphones'],\n",
    "    ['mouse'],\n",
    "    ['laptop', 'mouse', 'keyboard'],\n",
    "    ['keyboard', 'monitor'],\n",
    "    ['monitor', 'headphones']\n",
    "]"
   ]
  },
  {
   "cell_type": "markdown",
   "id": "38553f97-9b19-404d-a251-394dcf10d0e2",
   "metadata": {},
   "source": [
    "# Step 1: Preprocessing"
   ]
  },
  {
   "cell_type": "code",
   "execution_count": 5,
   "id": "d1a36ae1-acbe-438b-adba-06913c3dbf97",
   "metadata": {},
   "outputs": [
    {
     "data": {
      "text/html": [
       "<div>\n",
       "<style scoped>\n",
       "    .dataframe tbody tr th:only-of-type {\n",
       "        vertical-align: middle;\n",
       "    }\n",
       "\n",
       "    .dataframe tbody tr th {\n",
       "        vertical-align: top;\n",
       "    }\n",
       "\n",
       "    .dataframe thead th {\n",
       "        text-align: right;\n",
       "    }\n",
       "</style>\n",
       "<table border=\"1\" class=\"dataframe\">\n",
       "  <thead>\n",
       "    <tr style=\"text-align: right;\">\n",
       "      <th></th>\n",
       "      <th>bag</th>\n",
       "      <th>headphones</th>\n",
       "      <th>keyboard</th>\n",
       "      <th>laptop</th>\n",
       "      <th>monitor</th>\n",
       "      <th>mouse</th>\n",
       "    </tr>\n",
       "  </thead>\n",
       "  <tbody>\n",
       "    <tr>\n",
       "      <th>0</th>\n",
       "      <td>False</td>\n",
       "      <td>False</td>\n",
       "      <td>False</td>\n",
       "      <td>True</td>\n",
       "      <td>False</td>\n",
       "      <td>True</td>\n",
       "    </tr>\n",
       "    <tr>\n",
       "      <th>1</th>\n",
       "      <td>True</td>\n",
       "      <td>False</td>\n",
       "      <td>False</td>\n",
       "      <td>True</td>\n",
       "      <td>False</td>\n",
       "      <td>True</td>\n",
       "    </tr>\n",
       "    <tr>\n",
       "      <th>2</th>\n",
       "      <td>False</td>\n",
       "      <td>True</td>\n",
       "      <td>False</td>\n",
       "      <td>False</td>\n",
       "      <td>False</td>\n",
       "      <td>True</td>\n",
       "    </tr>\n",
       "    <tr>\n",
       "      <th>3</th>\n",
       "      <td>True</td>\n",
       "      <td>False</td>\n",
       "      <td>False</td>\n",
       "      <td>True</td>\n",
       "      <td>False</td>\n",
       "      <td>False</td>\n",
       "    </tr>\n",
       "    <tr>\n",
       "      <th>4</th>\n",
       "      <td>False</td>\n",
       "      <td>True</td>\n",
       "      <td>False</td>\n",
       "      <td>True</td>\n",
       "      <td>False</td>\n",
       "      <td>True</td>\n",
       "    </tr>\n",
       "    <tr>\n",
       "      <th>5</th>\n",
       "      <td>True</td>\n",
       "      <td>True</td>\n",
       "      <td>False</td>\n",
       "      <td>False</td>\n",
       "      <td>False</td>\n",
       "      <td>False</td>\n",
       "    </tr>\n",
       "    <tr>\n",
       "      <th>6</th>\n",
       "      <td>False</td>\n",
       "      <td>False</td>\n",
       "      <td>False</td>\n",
       "      <td>False</td>\n",
       "      <td>False</td>\n",
       "      <td>True</td>\n",
       "    </tr>\n",
       "    <tr>\n",
       "      <th>7</th>\n",
       "      <td>False</td>\n",
       "      <td>False</td>\n",
       "      <td>True</td>\n",
       "      <td>True</td>\n",
       "      <td>False</td>\n",
       "      <td>True</td>\n",
       "    </tr>\n",
       "    <tr>\n",
       "      <th>8</th>\n",
       "      <td>False</td>\n",
       "      <td>False</td>\n",
       "      <td>True</td>\n",
       "      <td>False</td>\n",
       "      <td>True</td>\n",
       "      <td>False</td>\n",
       "    </tr>\n",
       "    <tr>\n",
       "      <th>9</th>\n",
       "      <td>False</td>\n",
       "      <td>True</td>\n",
       "      <td>False</td>\n",
       "      <td>False</td>\n",
       "      <td>True</td>\n",
       "      <td>False</td>\n",
       "    </tr>\n",
       "  </tbody>\n",
       "</table>\n",
       "</div>"
      ],
      "text/plain": [
       "     bag  headphones  keyboard  laptop  monitor  mouse\n",
       "0  False       False     False    True    False   True\n",
       "1   True       False     False    True    False   True\n",
       "2  False        True     False   False    False   True\n",
       "3   True       False     False    True    False  False\n",
       "4  False        True     False    True    False   True\n",
       "5   True        True     False   False    False  False\n",
       "6  False       False     False   False    False   True\n",
       "7  False       False      True    True    False   True\n",
       "8  False       False      True   False     True  False\n",
       "9  False        True     False   False     True  False"
      ]
     },
     "execution_count": 5,
     "metadata": {},
     "output_type": "execute_result"
    }
   ],
   "source": [
    "# Use TransactionEncoder to convert the list into a DataFrame of True/False values.\n",
    "\n",
    "\n",
    "import pandas as pd\n",
    "from mlxtend.preprocessing import TransactionEncoder\n",
    "from mlxtend.frequent_patterns import apriori\n",
    "\n",
    "#Create an encoder object\n",
    "\n",
    "te = TransactionEncoder()\n",
    "\n",
    "#fit and transform\n",
    "\n",
    "encoded_data = te.fit(transactions).transform(transactions)\n",
    "\n",
    "#creating dataframe\n",
    "df = pd.DataFrame(encoded_data, columns=te.columns_)\n",
    "df\n"
   ]
  },
  {
   "cell_type": "markdown",
   "id": "640e725c-a471-4eff-9b91-d7416299b2e4",
   "metadata": {},
   "source": [
    "# Step 2: Apply Apriori algorithm"
   ]
  },
  {
   "cell_type": "code",
   "execution_count": 30,
   "id": "3d7ef73a-f1ab-4f29-8e74-092c585c5bd3",
   "metadata": {},
   "outputs": [
    {
     "name": "stdout",
     "output_type": "stream",
     "text": [
      "Frequent Itemsets:    support         itemsets\n",
      "0      0.3            (bag)\n",
      "1      0.4     (headphones)\n",
      "2      0.5         (laptop)\n",
      "3      0.6          (mouse)\n",
      "4      0.4  (mouse, laptop)\n"
     ]
    }
   ],
   "source": [
    "# Find frequent itemsets with minimum support (say 0.3)\n",
    "\n",
    "frequent_itemsets = apriori(df, min_support = 0.3, use_colnames = True)\n",
    "print(\"Frequent Itemsets:\", frequent_itemsets)\n",
    "\n",
    "# min_support=0.5\n",
    "# This means:\n",
    "\n",
    "# Only include itemsets that appear in at least 50% of transactions.\n",
    "\n",
    "# If you have 10 transactions, only itemsets that appear in 3 or more will be included.\n",
    "\n",
    "# This is a filter to remove rare combinations and focus on frequent ones.\n",
    "\n",
    "\n",
    "# use_colnames=True\n",
    "# This tells the Apriori function to:\n",
    "\n",
    "# Show the actual item names in the results (like 'jeans', 't-shirt')\n",
    "\n",
    "# Instead of showing column indices like {0, 1}."
   ]
  },
  {
   "cell_type": "markdown",
   "id": "341a8e3d-3aa9-4c06-9f6b-b9beb930dbca",
   "metadata": {},
   "source": [
    "# Step 3: Generate Association Rules"
   ]
  },
  {
   "cell_type": "code",
   "execution_count": 31,
   "id": "64db3a88-2653-4d7e-b783-47fd67ed0689",
   "metadata": {},
   "outputs": [
    {
     "data": {
      "text/html": [
       "<div>\n",
       "<style scoped>\n",
       "    .dataframe tbody tr th:only-of-type {\n",
       "        vertical-align: middle;\n",
       "    }\n",
       "\n",
       "    .dataframe tbody tr th {\n",
       "        vertical-align: top;\n",
       "    }\n",
       "\n",
       "    .dataframe thead th {\n",
       "        text-align: right;\n",
       "    }\n",
       "</style>\n",
       "<table border=\"1\" class=\"dataframe\">\n",
       "  <thead>\n",
       "    <tr style=\"text-align: right;\">\n",
       "      <th></th>\n",
       "      <th>antecedents</th>\n",
       "      <th>consequents</th>\n",
       "      <th>support</th>\n",
       "      <th>confidence</th>\n",
       "      <th>lift</th>\n",
       "    </tr>\n",
       "  </thead>\n",
       "  <tbody>\n",
       "    <tr>\n",
       "      <th>0</th>\n",
       "      <td>(mouse)</td>\n",
       "      <td>(laptop)</td>\n",
       "      <td>0.4</td>\n",
       "      <td>0.666667</td>\n",
       "      <td>1.333333</td>\n",
       "    </tr>\n",
       "    <tr>\n",
       "      <th>1</th>\n",
       "      <td>(laptop)</td>\n",
       "      <td>(mouse)</td>\n",
       "      <td>0.4</td>\n",
       "      <td>0.800000</td>\n",
       "      <td>1.333333</td>\n",
       "    </tr>\n",
       "  </tbody>\n",
       "</table>\n",
       "</div>"
      ],
      "text/plain": [
       "  antecedents consequents  support  confidence      lift\n",
       "0     (mouse)    (laptop)      0.4    0.666667  1.333333\n",
       "1    (laptop)     (mouse)      0.4    0.800000  1.333333"
      ]
     },
     "execution_count": 31,
     "metadata": {},
     "output_type": "execute_result"
    }
   ],
   "source": [
    "#Now that you have frequent itemsets, let's extract rules such as:\n",
    "\n",
    "# “If a customer buys mouse, they are also likely to buy laptop.”\n",
    "\n",
    "\n",
    "from mlxtend.frequent_patterns import association_rules\n",
    "\n",
    "# Generate rules from the frequent itemsets\n",
    "rules = association_rules(frequent_itemsets, metric=\"confidence\", min_threshold=0.3)\n",
    "\n",
    "# Select only support, confidence, and lift columns\n",
    "selected_metrics = rules[['antecedents', 'consequents', 'support', 'confidence', 'lift']]\n",
    "\n",
    "# Display the filtered rules\n",
    "selected_metrics"
   ]
  },
  {
   "cell_type": "markdown",
   "id": "a7ff962f-0f9e-44c6-bee6-a1843559e1f3",
   "metadata": {},
   "source": [
    "# Step 4: Visualization"
   ]
  },
  {
   "cell_type": "code",
   "execution_count": 39,
   "id": "db489878-10b6-47a5-a19f-c0ff45d43f48",
   "metadata": {},
   "outputs": [
    {
     "data": {
      "image/png": "[encoded data removed]",
      "text/plain": [
       "<Figure size 800x500 with 1 Axes>"
      ]
     },
     "metadata": {},
     "output_type": "display_data"
    }
   ],
   "source": [
    "import matplotlib.pyplot as plt\n",
    "\n",
    "# Step 1: Calculate item frequency (i.e., sum of True values for each item)\n",
    "item_frequencies = df.sum().sort_values(ascending=False)\n",
    "\n",
    "# Step 2: Plot bar chart\n",
    "plt.figure(figsize=(8, 5))\n",
    "item_frequencies.plot(kind='bar', color='lightgreen')\n",
    "plt.title('Item Frequencies in Transactions')\n",
    "plt.xlabel('Items')\n",
    "plt.ylabel('Frequency')\n",
    "plt.xticks(rotation=45)\n",
    "plt.grid(axis='y', linestyle='--', alpha=0.7)\n",
    "plt.tight_layout()\n",
    "plt.show()"
   ]
  },
  {
   "cell_type": "markdown",
   "id": "43c3459d-1185-4052-a00c-5a7b84f38f7e",
   "metadata": {},
   "source": [
    "# Project Conclusion: Market Basket Analysis using Apriori Algorithm"
   ]
  },
  {
   "cell_type": "markdown",
   "id": "00a165ad-e503-44e6-876b-e0101620f0ed",
   "metadata": {},
   "source": [
    "# Key Findings:"
   ]
  },
  {
   "cell_type": "code",
   "execution_count": null,
   "id": "f903abe9-efb8-447e-a75b-7ccb7c328d79",
   "metadata": {},
   "outputs": [],
   "source": [
    "Frequent Items Identified:\n",
    "\n",
    "The most commonly purchased items were:\n",
    "\n",
    "Mouse (appeared in 60% of transactions)\n",
    "\n",
    "Laptop (appeared in 50% of transactions)\n"
   ]
  },
  {
   "cell_type": "code",
   "execution_count": null,
   "id": "ae904ba9-17f1-476c-841a-be657645c241",
   "metadata": {},
   "outputs": [],
   "source": [
    "These rules indicate strong positive associations:\n",
    "\n",
    "67% of users who purchased a mouse also bought a laptop.\n",
    "\n",
    "80% of users who bought a laptop also bought a mouse.\n",
    "\n",
    "The lift value (1.33) suggests these items are purchased together 33% more often than by chance, implying a meaningful buying pattern."
   ]
  },
  {
   "cell_type": "markdown",
   "id": "14fc349e-f745-4721-9441-22bd84e12d13",
   "metadata": {},
   "source": [
    "# Conclusion:"
   ]
  },
  {
   "cell_type": "code",
   "execution_count": null,
   "id": "0b9afead-dfbe-4013-827d-9bd1adcdf0ea",
   "metadata": {},
   "outputs": [],
   "source": [
    "This analysis revealed valuable buying behavior insights:\n",
    "\n",
    "Mouse and laptop are frequently bought together.\n",
    "\n",
    "The store can use these findings to:\n",
    "\n",
    "Create product bundles or combo offers.\n",
    "\n",
    "Cross-sell items in marketing campaigns.\n",
    "\n",
    "Optimize product placement on the website."
   ]
  }
 ],
 "metadata": {
  "kernelspec": {
   "display_name": "Python 3 (ipykernel)",
   "language": "python",
   "name": "python3"
  },
  "language_info": {
   "codemirror_mode": {
    "name": "ipython",
    "version": 3
   },
   "file_extension": ".py",
   "mimetype": "text/x-python",
   "name": "python",
   "nbconvert_exporter": "python",
   "pygments_lexer": "ipython3",
   "version": "3.11.7"
  }
 },
 "nbformat": 4,
 "nbformat_minor": 5
}
